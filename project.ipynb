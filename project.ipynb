{
  "nbformat": 4,
  "nbformat_minor": 0,
  "metadata": {
    "colab": {
      "name": "project.ipynb",
      "provenance": [],
      "collapsed_sections": [],
      "authorship_tag": "ABX9TyPf9CyXaiJ31QIre4HBiWO/",
      "include_colab_link": true
    },
    "kernelspec": {
      "name": "python3",
      "display_name": "Python 3"
    }
  },
  "cells": [
    {
      "cell_type": "markdown",
      "metadata": {
        "id": "view-in-github",
        "colab_type": "text"
      },
      "source": [
        "<a href=\"https://colab.research.google.com/github/bhargavpetla/News-category-detection-project/blob/main/project.ipynb\" target=\"_parent\"><img src=\"https://colab.research.google.com/assets/colab-badge.svg\" alt=\"Open In Colab\"/></a>"
      ]
    },
    {
      "cell_type": "code",
      "metadata": {
        "colab": {
          "base_uri": "https://localhost:8080/"
        },
        "id": "uKBW80JgtI2P",
        "outputId": "24f339e7-7281-4f4c-8947-18f98d57834f"
      },
      "source": [
        "import copy\n",
        "import numpy as np\n",
        "import matplotlib.pyplot as plt\n",
        "import re\n",
        "import nltk\n",
        "nltk.download('stopwords')\n",
        "from sklearn.model_selection import train_test_split\n",
        "from sklearn.feature_extraction.text import CountVectorizer\n",
        "from sklearn.preprocessing import LabelEncoder\n",
        "from sklearn.feature_selection import VarianceThreshold\n",
        "from imblearn.over_sampling import SMOTE\n",
        "from sklearn.linear_model import LogisticRegression\n",
        "from sklearn.tree import DecisionTreeClassifier\n",
        "from sklearn.neural_network import MLPClassifier\n",
        "from sklearn.ensemble import RandomForestClassifier\n",
        "from sklearn import datasets, linear_model, metrics\n",
        "from sklearn.cluster import KMeans\n",
        "from sklearn.metrics import confusion_matrix\n",
        "from sklearn.metrics import classification_report\n",
        "import seaborn as sns"
      ],
      "execution_count": null,
      "outputs": [
        {
          "output_type": "stream",
          "text": [
            "[nltk_data] Downloading package stopwords to /root/nltk_data...\n",
            "[nltk_data]   Package stopwords is already up-to-date!\n"
          ],
          "name": "stdout"
        }
      ]
    },
    {
      "cell_type": "code",
      "metadata": {
        "id": "zu6FCmDmthuG",
        "colab": {
          "base_uri": "https://localhost:8080/"
        },
        "outputId": "bee22570-7bad-46fd-b652-f021c770e05d"
      },
      "source": [
        "from google.colab import drive\n",
        "drive.mount('/content/drive')"
      ],
      "execution_count": null,
      "outputs": [
        {
          "output_type": "stream",
          "text": [
            "Drive already mounted at /content/drive; to attempt to forcibly remount, call drive.mount(\"/content/drive\", force_remount=True).\n"
          ],
          "name": "stdout"
        }
      ]
    },
    {
      "cell_type": "code",
      "metadata": {
        "id": "wdC148RItKN2",
        "colab": {
          "base_uri": "https://localhost:8080/",
          "height": 229
        },
        "outputId": "e73317bf-3cec-4bbe-e37c-e176e0acc159"
      },
      "source": [
        "titles = []\n",
        "categories = []\n",
        "with open('/content/drive/MyDrive/Data/dsjVoxArticles.tsv','r') as tsv:\n",
        "    count = 0;\n",
        "    for line in tsv:\n",
        "        a = line.strip().split('\\t')[:3]\n",
        "        if a[2] in ['Business & Finance', 'Health Care', 'Science & Health', 'Politics & Policy', 'Criminal Justice']:\n",
        "            title = a[0].lower()\n",
        "            title = re.sub('\\s\\W',' ',title)\n",
        "            title = re.sub('\\W\\s',' ',title)\n",
        "            titles.append(title)\n",
        "            categories.append(a[2])"
      ],
      "execution_count": null,
      "outputs": [
        {
          "output_type": "error",
          "ename": "FileNotFoundError",
          "evalue": "ignored",
          "traceback": [
            "\u001b[0;31m---------------------------------------------------------------------------\u001b[0m",
            "\u001b[0;31mFileNotFoundError\u001b[0m                         Traceback (most recent call last)",
            "\u001b[0;32m<ipython-input-7-82571c58eb8f>\u001b[0m in \u001b[0;36m<module>\u001b[0;34m()\u001b[0m\n\u001b[1;32m      1\u001b[0m \u001b[0mtitles\u001b[0m \u001b[0;34m=\u001b[0m \u001b[0;34m[\u001b[0m\u001b[0;34m]\u001b[0m\u001b[0;34m\u001b[0m\u001b[0;34m\u001b[0m\u001b[0m\n\u001b[1;32m      2\u001b[0m \u001b[0mcategories\u001b[0m \u001b[0;34m=\u001b[0m \u001b[0;34m[\u001b[0m\u001b[0;34m]\u001b[0m\u001b[0;34m\u001b[0m\u001b[0;34m\u001b[0m\u001b[0m\n\u001b[0;32m----> 3\u001b[0;31m \u001b[0;32mwith\u001b[0m \u001b[0mopen\u001b[0m\u001b[0;34m(\u001b[0m\u001b[0;34m'/content/drive/MyDrive/Data/dsjVoxArticles.tsv'\u001b[0m\u001b[0;34m,\u001b[0m\u001b[0;34m'r'\u001b[0m\u001b[0;34m)\u001b[0m \u001b[0;32mas\u001b[0m \u001b[0mtsv\u001b[0m\u001b[0;34m:\u001b[0m\u001b[0;34m\u001b[0m\u001b[0;34m\u001b[0m\u001b[0m\n\u001b[0m\u001b[1;32m      4\u001b[0m     \u001b[0mcount\u001b[0m \u001b[0;34m=\u001b[0m \u001b[0;36m0\u001b[0m\u001b[0;34m;\u001b[0m\u001b[0;34m\u001b[0m\u001b[0;34m\u001b[0m\u001b[0m\n\u001b[1;32m      5\u001b[0m     \u001b[0;32mfor\u001b[0m \u001b[0mline\u001b[0m \u001b[0;32min\u001b[0m \u001b[0mtsv\u001b[0m\u001b[0;34m:\u001b[0m\u001b[0;34m\u001b[0m\u001b[0;34m\u001b[0m\u001b[0m\n",
            "\u001b[0;31mFileNotFoundError\u001b[0m: [Errno 2] No such file or directory: '/content/drive/MyDrive/Data/dsjVoxArticles.tsv'"
          ]
        }
      ]
    },
    {
      "cell_type": "code",
      "metadata": {
        "id": "eRRVnoH4trG9",
        "colab": {
          "base_uri": "https://localhost:8080/"
        },
        "outputId": "68d04cb4-2dae-4ba5-ec17-162a2e8eaa26"
      },
      "source": [
        "print(\"Titles-\\n\", \"\\n\".join(titles[:5]))\n",
        "print(\"\\nCategories-\\n\", \"\\n\".join(categories[:5]))"
      ],
      "execution_count": null,
      "outputs": [
        {
          "output_type": "stream",
          "text": [
            "Titles-\n",
            " bitcoin is down 60 percent this year here's why i'm still optimistic.\n",
            "9 charts that explain the history of global wealth\n",
            "remember when legal marijuana was going to send crime skyrocketing?\n",
            "obamacare succeeded for one simple reason it's horrible to be uninsured\n",
            "the best obamacare data comes from a home office in michigan\n",
            "\n",
            "Categories-\n",
            " Business & Finance\n",
            "Business & Finance\n",
            "Criminal Justice\n",
            "Health Care\n",
            "Health Care\n"
          ],
          "name": "stdout"
        }
      ]
    },
    {
      "cell_type": "code",
      "metadata": {
        "id": "QpSv7Hhctw9H",
        "colab": {
          "base_uri": "https://localhost:8080/"
        },
        "outputId": "b741e7dd-e095-4fbf-c374-a0ef1d81df48"
      },
      "source": [
        "title_tr, title_te, category_tr, category_te = train_test_split(titles,categories)\n",
        "title_tr, title_de, category_tr, category_de = train_test_split(title_tr,category_tr)\n",
        "print(\"Training: \",len(title_tr))\n",
        "print(\"Developement: \",len(title_de),)\n",
        "print(\"Testing: \",len(title_te))"
      ],
      "execution_count": null,
      "outputs": [
        {
          "output_type": "stream",
          "text": [
            "Training:  1779\n",
            "Developement:  594\n",
            "Testing:  792\n"
          ],
          "name": "stdout"
        }
      ]
    },
    {
      "cell_type": "code",
      "metadata": {
        "id": "AcEQK0Nzt6dU",
        "colab": {
          "base_uri": "https://localhost:8080/",
          "height": 52
        },
        "outputId": "da143046-ed0a-4fe8-ef51-540d5542aad6"
      },
      "source": [
        "'''\n",
        "from wordcloud import WordCloud\n",
        "text = \" \".join(title_tr)\n",
        "wordcloud = WordCloud().generate(text)\n",
        "plt.figure()\n",
        "plt.subplots(figsize=(20,12))\n",
        "wordcloud = WordCloud(\n",
        "    background_color=\"white\",\n",
        "    max_words=len(text),\n",
        "    max_font_size=40,\n",
        "    relative_scaling=.5).generate(text)\n",
        "plt.imshow(wordcloud)\n",
        "plt.axis(\"off\")\n",
        "plt.show()\n",
        "'''"
      ],
      "execution_count": null,
      "outputs": [
        {
          "output_type": "execute_result",
          "data": {
            "application/vnd.google.colaboratory.intrinsic+json": {
              "type": "string"
            },
            "text/plain": [
              "'\\nfrom wordcloud import WordCloud\\ntext = \" \".join(title_tr)\\nwordcloud = WordCloud().generate(text)\\nplt.figure()\\nplt.subplots(figsize=(20,12))\\nwordcloud = WordCloud(\\n    background_color=\"white\",\\n    max_words=len(text),\\n    max_font_size=40,\\n    relative_scaling=.5).generate(text)\\nplt.imshow(wordcloud)\\nplt.axis(\"off\")\\nplt.show()\\n'"
            ]
          },
          "metadata": {
            "tags": []
          },
          "execution_count": 28
        }
      ]
    },
    {
      "cell_type": "code",
      "metadata": {
        "id": "LPYtO-uyt_f0",
        "colab": {
          "base_uri": "https://localhost:8080/"
        },
        "outputId": "f689d5ca-9bcd-4e00-a768-49c3b29a25c2"
      },
      "source": [
        "tokenizer = nltk.tokenize.RegexpTokenizer(r\"\\w+\")\n",
        "stop_words = nltk.corpus.stopwords.words(\"english\")\n",
        "vectorizer = CountVectorizer(tokenizer=tokenizer.tokenize, stop_words=stop_words)\n",
        "\n",
        "vectorizer.fit(iter(title_tr))\n",
        "Xtr = vectorizer.transform(iter(title_tr))\n",
        "Xde = vectorizer.transform(iter(title_de))\n",
        "Xte = vectorizer.transform(iter(title_te))\n",
        "\n",
        "encoder = LabelEncoder()\n",
        "encoder.fit(category_tr)\n",
        "Ytr = encoder.transform(category_tr)\n",
        "Yde = encoder.transform(category_de)\n",
        "Yte = encoder.transform(category_te)"
      ],
      "execution_count": null,
      "outputs": [
        {
          "output_type": "stream",
          "text": [
            "/usr/local/lib/python3.7/dist-packages/sklearn/feature_extraction/text.py:507: UserWarning: The parameter 'token_pattern' will not be used since 'tokenizer' is not None'\n",
            "  warnings.warn(\"The parameter 'token_pattern' will not be used\"\n"
          ],
          "name": "stderr"
        }
      ]
    },
    {
      "cell_type": "code",
      "metadata": {
        "id": "lx8wYO7KuING",
        "colab": {
          "base_uri": "https://localhost:8080/"
        },
        "outputId": "f8fef529-5138-4cee-8cce-40a92192f1ec"
      },
      "source": [
        "reverse_vocabulary = {}\n",
        "vocabulary = vectorizer.vocabulary_\n",
        "for word in vocabulary:\n",
        "    index = vocabulary[word]\n",
        "    reverse_vocabulary[index] = word\n",
        "\n",
        "vector = vectorizer.transform(iter(['Nasa scientists are good']))\n",
        "indexes = vector.indices\n",
        "for i in indexes:\n",
        "    print (reverse_vocabulary[i])"
      ],
      "execution_count": null,
      "outputs": [
        {
          "output_type": "stream",
          "text": [
            "good\n",
            "nasa\n",
            "scientists\n"
          ],
          "name": "stdout"
        }
      ]
    },
    {
      "cell_type": "code",
      "metadata": {
        "id": "TmOruivDuOBB",
        "colab": {
          "base_uri": "https://localhost:8080/"
        },
        "outputId": "5b507f3e-0034-452d-fe53-89ede2030fe2"
      },
      "source": [
        "print(\"Number of features before reduction : \", Xtr.shape[1])\n",
        "selection = VarianceThreshold(threshold=0.001)\n",
        "Xtr_whole = copy.deepcopy(Xtr)\n",
        "Ytr_whole = copy.deepcopy(Ytr)\n",
        "selection.fit(Xtr)\n",
        "Xtr = selection.transform(Xtr)\n",
        "Xde = selection.transform(Xde)\n",
        "Xte = selection.transform(Xte)\n",
        "print(\"Number of features after reduction : \", Xtr.shape[1])"
      ],
      "execution_count": null,
      "outputs": [
        {
          "output_type": "stream",
          "text": [
            "Number of features before reduction :  4303\n",
            "Number of features after reduction :  1828\n"
          ],
          "name": "stdout"
        }
      ]
    },
    {
      "cell_type": "code",
      "metadata": {
        "id": "_wYj8zQIuW_Z",
        "colab": {
          "base_uri": "https://localhost:8080/",
          "height": 248
        },
        "outputId": "ff0b13d5-70f1-49e9-d968-cc6293b5d4ca"
      },
      "source": [
        "labels = list(set(Ytr))\n",
        "counts = []\n",
        "for label in labels:\n",
        "    counts.append(np.count_nonzero(Ytr == label))\n",
        "plt.pie(counts, labels=labels, autopct='%1.1f%%')\n",
        "plt.show()"
      ],
      "execution_count": null,
      "outputs": [
        {
          "output_type": "display_data",
          "data": {
            "image/png": "[encoded data removed]",
            "text/plain": [
              "<Figure size 432x288 with 1 Axes>"
            ]
          },
          "metadata": {
            "tags": []
          }
        }
      ]
    },
    {
      "cell_type": "code",
      "metadata": {
        "id": "fJ2eGkJzuc65",
        "colab": {
          "base_uri": "https://localhost:8080/",
          "height": 302
        },
        "outputId": "dd6a9451-a6b0-4f26-a375-49935e3fbe98"
      },
      "source": [
        "sm = SMOTE(random_state=42)\n",
        "Xtr, Ytr = sm.fit_sample(Xtr, Ytr)\n",
        "labels = list(set(Ytr))\n",
        "counts = []\n",
        "for label in labels:\n",
        "    counts.append(np.count_nonzero(Ytr == label))\n",
        "plt.pie(counts, labels=labels, autopct='%1.1f%%')\n",
        "plt.show()"
      ],
      "execution_count": null,
      "outputs": [
        {
          "output_type": "stream",
          "text": [
            "/usr/local/lib/python3.7/dist-packages/sklearn/utils/deprecation.py:87: FutureWarning: Function safe_indexing is deprecated; safe_indexing is deprecated in version 0.22 and will be removed in version 0.24.\n",
            "  warnings.warn(msg, category=FutureWarning)\n"
          ],
          "name": "stderr"
        },
        {
          "output_type": "display_data",
          "data": {
            "image/png": "[encoded data removed]",
            "text/plain": [
              "<Figure size 432x288 with 1 Axes>"
            ]
          },
          "metadata": {
            "tags": []
          }
        }
      ]
    },
    {
      "cell_type": "code",
      "metadata": {
        "colab": {
          "base_uri": "https://localhost:8080/"
        },
        "id": "O1dbLdqPlDoQ",
        "outputId": "cb49deca-24d3-4579-b4d8-991637e40889"
      },
      "source": [
        "rf = RandomForestClassifier(n_estimators=40)\n",
        "rf.fit(Xtr, Ytr)\n",
        "pred = rf.predict(Xde)\n",
        "print(classification_report(Yde, pred, target_names=encoder.classes_))"
      ],
      "execution_count": null,
      "outputs": [
        {
          "output_type": "stream",
          "text": [
            "                    precision    recall  f1-score   support\n",
            "\n",
            "Business & Finance       0.39      0.47      0.42        81\n",
            "  Criminal Justice       0.48      0.58      0.53        77\n",
            "       Health Care       0.37      0.63      0.46        65\n",
            " Politics & Policy       0.75      0.57      0.65       265\n",
            "  Science & Health       0.53      0.46      0.49       106\n",
            "\n",
            "          accuracy                           0.54       594\n",
            "         macro avg       0.50      0.54      0.51       594\n",
            "      weighted avg       0.59      0.54      0.55       594\n",
            "\n"
          ],
          "name": "stdout"
        }
      ]
    },
    {
      "cell_type": "code",
      "metadata": {
        "colab": {
          "base_uri": "https://localhost:8080/"
        },
        "id": "wIXRabVxF5AP",
        "outputId": "7f83e91c-188b-4617-b309-737247774205"
      },
      "source": [
        "from sklearn.linear_model import LogisticRegression\n",
        "Lr = LogisticRegression()\n",
        "Lr.fit(Xtr,Ytr)\n",
        "pred = Lr.predict(Xde)\n",
        "print(classification_report(Yde, pred, target_names=encoder.classes_))"
      ],
      "execution_count": null,
      "outputs": [
        {
          "output_type": "stream",
          "text": [
            "                    precision    recall  f1-score   support\n",
            "\n",
            "Business & Finance       0.47      0.68      0.55        81\n",
            "  Criminal Justice       0.52      0.43      0.47        77\n",
            "       Health Care       0.52      0.52      0.52        65\n",
            " Politics & Policy       0.74      0.67      0.70       265\n",
            "  Science & Health       0.57      0.57      0.57       106\n",
            "\n",
            "          accuracy                           0.61       594\n",
            "         macro avg       0.56      0.57      0.56       594\n",
            "      weighted avg       0.62      0.61      0.61       594\n",
            "\n"
          ],
          "name": "stdout"
        },
        {
          "output_type": "stream",
          "text": [
            "/usr/local/lib/python3.7/dist-packages/sklearn/linear_model/_logistic.py:940: ConvergenceWarning: lbfgs failed to converge (status=1):\n",
            "STOP: TOTAL NO. of ITERATIONS REACHED LIMIT.\n",
            "\n",
            "Increase the number of iterations (max_iter) or scale the data as shown in:\n",
            "    https://scikit-learn.org/stable/modules/preprocessing.html\n",
            "Please also refer to the documentation for alternative solver options:\n",
            "    https://scikit-learn.org/stable/modules/linear_model.html#logistic-regression\n",
            "  extra_warning_msg=_LOGISTIC_SOLVER_CONVERGENCE_MSG)\n"
          ],
          "name": "stderr"
        }
      ]
    },
    {
      "cell_type": "code",
      "metadata": {
        "colab": {
          "base_uri": "https://localhost:8080/"
        },
        "id": "FwPuD6QpgKeE",
        "outputId": "6d0464e5-5d77-41eb-ee1d-d62db5aa9849"
      },
      "source": [
        "from sklearn import datasets, linear_model, metrics\n",
        "reg = linear_model.LinearRegression()\n",
        "reg.fit(Xtr,Ytr)\n",
        "pred = reg.predict(Xde)\n",
        "\n",
        "pred = (pred > 0.5)\n",
        "   \n",
        "\n",
        "pred\n",
        "print(classification_report(Yde, pred, target_names=encoder.classes_))\n",
        "\n"
      ],
      "execution_count": null,
      "outputs": [
        {
          "output_type": "stream",
          "text": [
            "                    precision    recall  f1-score   support\n",
            "\n",
            "Business & Finance       0.18      0.42      0.25        81\n",
            "  Criminal Justice       0.13      0.66      0.21        77\n",
            "       Health Care       0.00      0.00      0.00        65\n",
            " Politics & Policy       0.00      0.00      0.00       265\n",
            "  Science & Health       0.00      0.00      0.00       106\n",
            "\n",
            "          accuracy                           0.14       594\n",
            "         macro avg       0.06      0.22      0.09       594\n",
            "      weighted avg       0.04      0.14      0.06       594\n",
            "\n"
          ],
          "name": "stdout"
        },
        {
          "output_type": "stream",
          "text": [
            "/usr/local/lib/python3.7/dist-packages/sklearn/metrics/_classification.py:1272: UndefinedMetricWarning: Precision and F-score are ill-defined and being set to 0.0 in labels with no predicted samples. Use `zero_division` parameter to control this behavior.\n",
            "  _warn_prf(average, modifier, msg_start, len(result))\n"
          ],
          "name": "stderr"
        }
      ]
    },
    {
      "cell_type": "code",
      "metadata": {
        "colab": {
          "base_uri": "https://localhost:8080/"
        },
        "id": "yvUcqxZNKldP",
        "outputId": "99babb3b-1ffc-407e-98a5-e33ef0ec52e6"
      },
      "source": [
        "from sklearn.cluster import KMeans\n",
        "\n",
        "kmeans = KMeans(n_clusters = 3, random_state=1)\n",
        "\n",
        "kmeans.fit(Xtr, Ytr)\n",
        "pred = kmeans.predict(Xde)\n",
        "print(classification_report(Yde, pred, target_names=encoder.classes_))\n"
      ],
      "execution_count": null,
      "outputs": [
        {
          "output_type": "stream",
          "text": [
            "                    precision    recall  f1-score   support\n",
            "\n",
            "Business & Finance       0.15      1.00      0.26        81\n",
            "  Criminal Justice       0.14      0.01      0.02        77\n",
            "       Health Care       0.51      0.32      0.40        65\n",
            " Politics & Policy       0.00      0.00      0.00       265\n",
            "  Science & Health       0.00      0.00      0.00       106\n",
            "\n",
            "          accuracy                           0.17       594\n",
            "         macro avg       0.16      0.27      0.14       594\n",
            "      weighted avg       0.09      0.17      0.08       594\n",
            "\n"
          ],
          "name": "stdout"
        },
        {
          "output_type": "stream",
          "text": [
            "/usr/local/lib/python3.7/dist-packages/sklearn/metrics/_classification.py:1272: UndefinedMetricWarning: Precision and F-score are ill-defined and being set to 0.0 in labels with no predicted samples. Use `zero_division` parameter to control this behavior.\n",
            "  _warn_prf(average, modifier, msg_start, len(result))\n"
          ],
          "name": "stderr"
        }
      ]
    },
    {
      "cell_type": "code",
      "metadata": {
        "id": "l0G0ka6LuvtV",
        "colab": {
          "base_uri": "https://localhost:8080/"
        },
        "outputId": "66314efc-1448-48b5-fc6d-7c5fa4684255"
      },
      "source": [
        "from sklearn.svm import SVC\n",
        "svc = SVC()\n",
        "svc.fit(Xtr, Ytr)\n",
        "pred = svc.predict(Xde)\n",
        "print(classification_report(Yde, pred, target_names=encoder.classes_))"
      ],
      "execution_count": null,
      "outputs": [
        {
          "output_type": "stream",
          "text": [
            "                    precision    recall  f1-score   support\n",
            "\n",
            "Business & Finance       0.40      0.28      0.33        81\n",
            "  Criminal Justice       0.68      0.17      0.27        77\n",
            "       Health Care       0.55      0.26      0.35        65\n",
            " Politics & Policy       0.54      0.90      0.68       265\n",
            "  Science & Health       0.54      0.24      0.33       106\n",
            "\n",
            "          accuracy                           0.53       594\n",
            "         macro avg       0.54      0.37      0.39       594\n",
            "      weighted avg       0.54      0.53      0.48       594\n",
            "\n"
          ],
          "name": "stdout"
        }
      ]
    },
    {
      "cell_type": "code",
      "metadata": {
        "id": "-aSeHb52u9tJ",
        "colab": {
          "base_uri": "https://localhost:8080/"
        },
        "outputId": "c5773489-0fef-4908-d025-877e2ecebd1e"
      },
      "source": [
        "mlp = MLPClassifier(solver='adam', alpha=1e-5, hidden_layer_sizes=(100, 20), random_state=1, max_iter=400)\n",
        "mlp.fit(Xtr, Ytr)\n",
        "pred = mlp.predict(Xde)\n",
        "print(classification_report(Yde, pred, target_names=encoder.classes_))"
      ],
      "execution_count": null,
      "outputs": [
        {
          "output_type": "stream",
          "text": [
            "                    precision    recall  f1-score   support\n",
            "\n",
            "Business & Finance       0.45      0.58      0.51        81\n",
            "  Criminal Justice       0.55      0.42      0.47        77\n",
            "       Health Care       0.47      0.48      0.47        65\n",
            " Politics & Policy       0.72      0.66      0.69       265\n",
            "  Science & Health       0.51      0.58      0.54       106\n",
            "\n",
            "          accuracy                           0.58       594\n",
            "         macro avg       0.54      0.54      0.54       594\n",
            "      weighted avg       0.59      0.58      0.59       594\n",
            "\n"
          ],
          "name": "stdout"
        }
      ]
    },
    {
      "cell_type": "code",
      "metadata": {
        "id": "zcoOdHpzRfh3"
      },
      "source": [
        "    import matplotlib.pyplot as plt\n",
        "    from sklearn import model_selection\n",
        "    from sklearn.linear_model import LogisticRegression\n",
        "    from sklearn.tree import DecisionTreeClassifier\n",
        "    from sklearn.neighbors import KNeighborsClassifier\n",
        "    from sklearn.discriminant_analysis import LinearDiscriminantAnalysis\n",
        "    from sklearn.naive_bayes import GaussianNB\n",
        "    from sklearn.svm import SVC\n",
        "    from sklearn.model_selection import train_test_split\n",
        "    from sklearn import datasets\n",
        "    import matplotlib.pyplot as plt\n",
        "\n",
        "    plt.style.use('ggplot')"
      ],
      "execution_count": null,
      "outputs": []
    },
    {
      "cell_type": "code",
      "metadata": {
        "id": "u9b_dZ_eRmKu"
      },
      "source": [
        "seed = 50"
      ],
      "execution_count": null,
      "outputs": []
    },
    {
      "cell_type": "code",
      "metadata": {
        "colab": {
          "base_uri": "https://localhost:8080/"
        },
        "id": "tSpcel8US1nQ",
        "outputId": "59404943-6bdb-4b71-e036-cea19df6bf42"
      },
      "source": [
        "kfold = model_selection.KFold(n_splits=10, random_state=seed)"
      ],
      "execution_count": null,
      "outputs": [
        {
          "output_type": "stream",
          "text": [
            "/usr/local/lib/python3.7/dist-packages/sklearn/model_selection/_split.py:296: FutureWarning: Setting a random_state has no effect since shuffle is False. This will raise an error in 0.24. You should leave random_state to its default (None), or set shuffle=True.\n",
            "  FutureWarning\n"
          ],
          "name": "stderr"
        }
      ]
    },
    {
      "cell_type": "code",
      "metadata": {
        "id": "0xzggG5qTAx8"
      },
      "source": [
        "    models = []\n",
        "    models.append(('LR', LogisticRegression()))\n",
        "    models.append(('LDA', LinearDiscriminantAnalysis()))\n",
        "    models.append(('KNN', KNeighborsClassifier()))\n",
        "    models.append(('CART', DecisionTreeClassifier()))\n",
        "    models.append(('NB', GaussianNB()))\n",
        "    models.append(('SVM', SVC()))"
      ],
      "execution_count": null,
      "outputs": []
    },
    {
      "cell_type": "code",
      "metadata": {
        "id": "KEhpbG71TGOv"
      },
      "source": [
        "    results = []\n",
        "    names = []\n",
        "    scoring = 'accuracy'\n",
        "    for name, model in models:\n",
        "         kfold = model_selection.KFold(n_splits=10, random_state=seed)\n",
        "         cv_results = model_selection.cross_val_score(model, Xtr, Ytr, cv=kfold, scoring=scoring)\n",
        "         results.append(cv_results)\n",
        "         names.append(name)\n",
        "         msg = \"%s: %f (%f)\" % (name, cv_results.mean(), cv_results.std())\n",
        "         print(msg)"
      ],
      "execution_count": null,
      "outputs": []
    },
    {
      "cell_type": "code",
      "metadata": {
        "colab": {
          "base_uri": "https://localhost:8080/",
          "height": 663
        },
        "id": "dadofo2HTZ76",
        "outputId": "98cdfb41-1f28-40e3-ad63-fbccf581a913"
      },
      "source": [
        "    fig = plt.figure(figsize=(10,10))\n",
        "    fig.suptitle('How to compare sklearn classification algorithms')\n",
        "    ax = fig.add_subplot(111)\n",
        "    plt.boxplot(results)\n",
        "    ax.set_xticklabels(names)\n",
        "    plt.show()"
      ],
      "execution_count": null,
      "outputs": [
        {
          "output_type": "display_data",
          "data": {
            "image/png": "[encoded data removed]",
            "text/plain": [
              "<Figure size 720x720 with 1 Axes>"
            ]
          },
          "metadata": {
            "tags": []
          }
        }
      ]
    }
  ]
}